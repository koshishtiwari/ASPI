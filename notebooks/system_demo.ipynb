{
 "cells": [
  {
   "cell_type": "markdown",
   "metadata": {},
   "source": [
    "# Stock Potential Identifier System Demo\n",
    "\n",
    "This notebook demonstrates the core functionality of the Stock Potential Identifier System."
   ]
  },
  {
   "cell_type": "code",
   "execution_count": null,
   "metadata": {},
   "source": [
    "# Add parent directory to path for imports\n",
    "import os\n",
    "import sys\n",
    "sys.path.insert(0, os.path.abspath('..'))\n",
    "\n",
    "# Standard imports\n",
    "import asyncio\n",
    "import pandas as pd\n",
    "import numpy as np\n",
    "import matplotlib.pyplot as plt\n",
    "import seaborn as sns\n",
    "from datetime import datetime, timedelta\n",
    "\n",
    "# Import system components\n",
    "from src.data_acquisition import DataAcquisition\n",
    "from src.feature_engineering import FeatureEngineering\n",
    "from src.model_hierarchy import ModelHierarchy\n",
    "from src.fusion_layer import FusionLayer\n",
    "from src.signal_generator import SignalGenerator\n",
    "from src.decision_engine import DecisionEngine\n",
    "from src.utils import load_config, plot_feature_importance, plot_equity_curve\n",
    "\n",
    "# Configure plotting\n",
    "plt.style.use('ggplot')\n",
    "sns.set_style('darkgrid')\n",
    "plt.rcParams['figure.figsize'] = (12, 8)\n",
    "%matplotlib inline"
   ]
  },
  {
   "cell_type": "markdown",
   "metadata": {},
   "source": [
    "## 1. Initialize System Components"
   ]
  },
  {
   "cell_type": "code",
   "execution_count": null,
   "metadata": {},
   "source": [
    "# Load configuration\n",
    "config = load_config('../config/config.yaml')\n",
    "\n",
    "# Initialize components\n",
    "data_engine = DataAcquisition('../config/config.yaml')\n",
    "feature_engine = FeatureEngineering('../config/config.yaml')\n",
    "model_engine = ModelHierarchy('medium_term', '../config/config.yaml')\n",
    "fusion_engine = FusionLayer('medium_term', '../config/config.yaml')\n",
    "signal_engine = SignalGenerator('../config/config.yaml')\n",
    "decision_engine = DecisionEngine('../config/config.yaml')"
   ]
  },
  {
   "cell_type": "markdown",
   "metadata": {},
   "source": [
    "## 2. Data Acquisition"
   ]
  },
  {
   "cell_type": "code",
   "execution_count": null,
   "metadata": {},
   "source": [
    "# Start data acquisition service\n",
    "await data_engine.start()\n",
    "\n",
    "# Get stock universe\n",
    "symbols = await data_engine.get_stock_universe()\n",
    "print(f\"Analyzing {len(symbols)} stocks: {', '.join(symbols[:5])}...\")"
   ]
  },
  {
   "cell_type": "code",
   "execution_count": null,
   "metadata": {},
   "source": [
    "# Get market data for a sample stock\n",
    "symbol = symbols[0]\n",
    "market_data = await data_engine.get_market_data(symbol, period=\"2y\", interval=\"1d\")\n",
    "\n",
    "# Display market data\n",
    "print(f\"Market data for {symbol}:\")\n",
    "market_data.tail()"
   ]
  },
  {
   "cell_type": "code",
   "execution_count": null,
   "metadata": {},
   "source": [
    "# Plot the market data\n",
    "plt.figure(figsize=(14, 7))\n",
    "\n",
    "# Plot price and volume\n",
    "ax1 = plt.subplot(2, 1, 1)\n",
    "ax1.plot(market_data.index, market_data['Close'], label='Close Price')\n",
    "ax1.set_title(f\"{symbol} Price History\")\n",
    "ax1.set_ylabel('Price ($)')\n",
    "ax1.legend()\n",
    "\n",
    "ax2 = plt.subplot(2, 1, 2, sharex=ax1)\n",
    "ax2.bar(market_data.index, market_data['Volume'], color='green', alpha=0.6, label='Volume')\n",
    "ax2.set_ylabel('Volume')\n",
    "ax2.set_xlabel('Date')\n",
    "ax2.legend()\n",
    "\n",
    "plt.tight_layout()\n",
    "plt.show()"
   ]
  },
  {
   "cell_type": "markdown",
   "metadata": {},
   "source": [
    "## 3. Feature Engineering"
   ]
  },
  {
   "cell_type": "code",
   "execution_count": null,
   "metadata": {},
   "source": [
    "# Generate technical features\n",
    "technical_features = feature_engine.generate_technical_features(market_data)\n",
    "\n",
    "# Get fundamental data\n",
    "fundamental_data = await data_engine.get_fundamentals(symbol)\n",
    "fundamental_features = None\n",
    "\n",
    "if not fundamental_data.empty:\n",
    "    fundamental_features = feature_engine.generate_fundamental_features(fundamental_data)\n",
    "    print(\"Fundamental features:\")\n",
    "    display(fundamental_features)\n",
    "else:\n",
    "    print(\"No fundamental data available.\")\n",
    "\n",
    "# Get alternative data\n",
    "alt_data = await data_engine.get_alternative_data(symbol)\n",
    "alt_features = None\n",
    "\n",
    "if not alt_data.empty:\n",
    "    alt_features = feature_engine.generate_alternative_features(alt_data)\n",
    "    print(\"Alternative features:\")\n",
    "    display(alt_features)\n",
    "else:\n",
    "    print(\"No alternative data available.\")"
   ]
  },
  {
   "cell_type": "code",
   "execution_count": null,
   "metadata": {},
   "source": [
    "# Display subset of technical features\n",
    "print(f\"Generated {len(technical_features.columns)} technical features\")\n",
    "\n",
    "# Select key technical indicators to display\n",
    "key_indicators = ['Close', 'rsi_14', 'macd_crossover', 'bb_width']\n",
    "key_indicators = [col for col in key_indicators if col in technical_features.columns]\n",
    "\n",
    "technical_features[key_indicators].tail()"
   ]
  },
  {
   "cell_type": "code",
   "execution_count": null,
   "metadata": {},
   "source": [
    "# Plot key technical indicators\n",
    "plt.figure(figsize=(14, 12))\n",
    "\n",
    "# Plot price\n",
    "ax1 = plt.subplot(4, 1, 1)\n",
    "ax1.plot(technical_features.index, technical_features['Close'], label='Close')\n",
    "ax1.set_title(f\"{symbol} - Price and Technical Indicators\")\n",
    "ax1.set_ylabel('Price ($)')\n",
    "ax1.legend()\n",
    "\n",
    "# Plot RSI\n",
    "if 'rsi_14' in technical_features.columns:\n",
    "    ax2 = plt.subplot(4, 1, 2, sharex=ax1)\n",
    "    ax2.plot(technical_features.index, technical_features['rsi_14'], color='purple')\n",
    "    ax2.axhline(y=70, color='r', linestyle='--', alpha=0.5)\n",
    "    ax2.axhline(y=30, color='g', linestyle='--', alpha=0.5)\n",
    "    ax2.set_ylabel('RSI (14)')\n",
    "    ax2.set_ylim(0, 100)\n",
    "\n",
    "# Plot MACD\n",
    "if all(x in technical_features.columns for x in ['MACD_12_26_9', 'MACDs_12_26_9']):\n",
    "    ax3 = plt.subplot(4, 1, 3, sharex=ax1)\n",
    "    ax3.plot(technical_features.index, technical_features['MACD_12_26_9'], label='MACD')\n",
    "    ax3.plot(technical_features.index, technical_features['MACDs_12_26_9'], label='Signal')\n",
    "    if 'MACDh_12_26_9' in technical_features.columns:\n",
    "        ax3.bar(technical_features.index, technical_features['MACDh_12_26_9'], \n",
    "                color=np.where(technical_features['MACDh_12_26_9'] > 0, 'g', 'r'), alpha=0.5)\n",
    "    ax3.set_ylabel('MACD')\n",
    "    ax3.legend()\n",
    "\n",
    "# Plot Bollinger Bands\n",
    "if all(x in technical_features.columns for x in ['BBU_20_2.0', 'BBM_20_2.0', 'BBL_20_2.0']):\n",
    "    ax4 = plt.subplot(4, 1, 4, sharex=ax1)\n",
    "    ax4.plot(technical_features.index, technical_features['Close'], label='Close')\n",
    "    ax4.plot(technical_features.index, technical_features['BBU_20_2.0'], 'r--', label='Upper BB')\n",
    "    ax4.plot(technical_features.index, technical_features['BBM_20_2.0'], 'b--', label='Middle BB')\n",
    "    ax4.plot(technical_features.index, technical_features['BBL_20_2.0'], 'g--', label='Lower BB')\n",
    "    ax4.set_ylabel('Price ($)')\n",
    "    ax4.set_xlabel('Date')\n",
    "    ax4.legend()\n",
    "\n",
    "plt.tight_layout()\n",
    "plt.show()"
   ]
  },
  {
   "cell_type": "code",
   "execution_count": null,
   "metadata": {},
   "source": [
    "# Combine all features\n",
    "combined_features = feature_engine.combine_feature_sets(\n",
    "    technical_features, fundamental_features, alt_features, normalize=True\n",
    ")\n",
    "\n",
    "print(f\"Combined features shape: {combined_features.shape}\")\n",
    "combined_features.iloc[-5:, :10]  # Show last 5 rows, first 10 columns"
   ]
  },
  {
   "cell_type": "markdown",
   "metadata": {},
   "source": [
    "## 4. Generate Target Labels"
   ]
  },
  {
   "cell_type": "code",
   "execution_count": null,
   "metadata": {},
   "source": [
    "# Generate target labels for each horizon\n",
    "horizons = ['short_term', 'medium_term', 'long_term']\n",
    "target_labels = {}\n",
    "\n",
    "for horizon in horizons:\n",
    "    target_labels[horizon] = feature_engine.generate_target_labels(market_data, horizon)\n",
    "    \n",
    "# Display target distribution for each horizon\n",
    "for horizon, labels in target_labels.items():\n",
    "    positive_pct = labels['target'].mean() * 100\n",
    "    print(f\"{horizon}: {len(labels)} labels, {positive_pct:.1f}% positive\")"
   ]
  },
  {
   "cell_type": "code",
   "execution_count": null,
   "metadata": {},
   "source": [
    "# Plot future returns distribution\n",
    "plt.figure(figsize=(14, 5))\n",
    "\n",
    "for i, (horizon, labels) in enumerate(target_labels.items()):\n",
    "    plt.subplot(1, 3, i+1)\n",
    "    sns.histplot(labels['future_return'], kde=True)\n",
    "    plt.axvline(x=0, color='r', linestyle='--')\n",
    "    plt.title(f\"{horizon} Returns Distribution\")\n",
    "    plt.xlabel('Future Return')\n",
    "    plt.ylabel('Frequency')\n",
    "\n",
    "plt.tight_layout()\n",
    "plt.show()"
   ]
  },
  {
   "cell_type": "markdown",
   "metadata": {},
   "source": [
    "## 5. Model Training"
   ]
  },
  {
   "cell_type": "code",
   "execution_count": null,
   "metadata": {},
   "source": [
    "# Build models\n",
    "model_engine.build_models()\n",
    "\n",
    "# Prepare training data for a single stock (simplified example)\n",
    "horizon = 'medium_term'\n",
    "features = combined_features\n",
    "targets = target_labels[horizon]\n",
    "\n",
    "# Align features and targets\n",
    "common_index = features.index.intersection(targets.index)\n",
    "X_train = features.loc[common_index]\n",
    "y_train = targets.loc[common_index, 'target']\n",
    "\n",
    "print(f\"Training data: {X_train.shape[0]} samples, {X_train.shape[1]} features\")"
   ]
  },
  {
   "cell_type": "code",
   "execution_count": null,
   "metadata": {},
   "source": [
    "# Train models (this may take some time)\n",
    "train_results = model_engine.train_models(X_train, y_train)\n",
    "\n",
    "# Display training results\n",
    "for model_name, metrics in train_results.items():\n",
    "    print(f\"\\n{model_name} training metrics:\")\n",
    "    for metric, value in metrics.items():\n",
    "        if metric != 'top_features':  # Skip feature list\n",
    "            print(f\"  {metric}: {value:.4f}\")"
   ]
  },
  {
   "cell_type": "code",
   "execution_count": null,
   "metadata": {},
   "source": [
    "# Plot feature importance for tree-based models\n",
    "for model_name, metrics in train_results.items():\n",
    "    if 'top_features' in metrics and model_name in ['xgboost', 'lightgbm', 'random_forest']:\n",
    "        # Convert to DataFrame for plotting\n",
    "        feature_imp = pd.DataFrame(metrics['top_features'])\n",
    "        \n",
    "        plt.figure(figsize=(10, 8))\n",
    "        sns.barplot(x='importance', y='feature', data=feature_imp)\n",
    "        plt.title(f\"{model_name} Feature Importance\")\n",
    "        plt.tight_layout()\n",
    "        plt.show()"
   ]
  },
  {
   "cell_type": "markdown",
   "metadata": {},
   "source": [
    "## 6. Prediction and Consensus"
   ]
  },
  {
   "cell_type": "code",
   "execution_count": null,
   "metadata": {},
   "source": [
    "# Generate predictions on latest data\n",
    "X_predict = X_train.iloc[[-1]]  # Just the latest date\n",
    "predictions = model_engine.predict(X_predict)\n",
    "\n",
    "# Display raw predictions\n",
    "print(\"Raw model predictions:\")\n",
    "for model_name, pred in predictions.items():\n",
    "    if 'probability' in pred and pred['probability'] is not None:\n",
    "        print(f\"  {model_name}: Class {pred['class'][0]}, Probability {pred['probability'][0]:.4f}\")"
   ]
  },
  {
   "cell_type": "code",
   "execution_count": null,
   "metadata": {},
   "source": [
    "# Detect market regime\n",
    "market_regime = fusion_engine.detect_market_regime(market_data)\n",
    "print(f\"Detected market regime: {market_regime}\")\n",
    "\n",
    "# Generate consensus prediction\n",
    "consensus = fusion_engine.generate_consensus(predictions, market_regime)\n",
    "\n",
    "# Display consensus results\n",
    "print(\"\\nConsensus prediction:\")\n",
    "print(f\"  Class: {consensus['class'][0]}\")\n",
    "print(f\"  Probability: {consensus['probability'][0]:.4f}\")\n",
    "print(f\"  Confidence: {consensus['confidence'][0]:.4f}\")\n",
    "print(f\"\\nModel weights:\")\n",
    "for model, weight in consensus['model_weights'].items():\n",
    "    print(f\"  {model}: {weight:.4f}\")"
   ]
  },
  {
   "cell_type": "markdown",
   "metadata": {},
   "source": [
    "## 7. Signal Generation"
   ]
  },
  {
   "cell_type": "code",
   "execution_count": null,
   "metadata": {},
   "source": [
    "# Generate signals\n",
    "signals = signal_engine.generate_signals(market_data, consensus, horizon, symbol)\n",
    "\n",
    "# Display signals\n",
    "if signals:\n",
    "    signal = signals[0]  # Take the first signal\n",
    "    print(f\"Signal for {signal['symbol']}:\")\n",
    "    print(f\"  Type: {signal['type']}\")\n",
    "    print(f\"  Entry Price: ${signal['entry_price']:.2f}\")\n",
    "    print(f\"  Stop Loss: ${signal['stop_loss']:.2f}\")\n",
    "    print(f\"  Target: ${signal['target']:.2f}\")\n",
    "    print(f\"  Risk-Reward: {signal['risk_reward']:.2f}\")\n",
    "    print(f\"  Probability: {signal['probability']:.2f}\")\n",
    "    print(f\"  Sharpe: {signal['sharpe']:.2f}\")\n",
    "    print(f\"  Recommended Position Size: {signal['position_size']:.2f}\")\n",
    "else:\n",
    "    print(\"No signals generated\")"
   ]
  },
  {
   "cell_type": "code",
   "execution_count": null,
   "metadata": {},
   "source": [
    "# Visualize the signal on the price chart\n",
    "if signals:\n",
    "    signal = signals[0]  # Take the first signal\n",
    "    \n",
    "    plt.figure(figsize=(12, 6))\n",
    "    \n",
    "    # Plot price history\n",
    "    plt.plot(market_data.index, market_data['Close'], label='Close Price')\n",
    "    \n",
    "    # Get the latest date\n",
    "    latest_date = market_data.index[-1]\n",
    "    \n",
    "    # Add entry point\n",
    "    plt.scatter(latest_date, signal['entry_price'], color='blue', s=100, label='Entry')\n",
    "    \n",
    "    # Add stop loss and target\n",
    "    if signal['type'] == 'LONG':\n",
    "        stop_color = 'red'\n",
    "        target_color = 'green'\n",
    "    else:  # SHORT\n",
    "        stop_color = 'green'\n",
    "        target_color = 'red'\n",
    "    \n",
    "    plt.scatter(latest_date, signal['stop_loss'], color=stop_color, s=100, label='Stop Loss')\n",
    "    plt.scatter(latest_date, signal['target'], color=target_color, s=100, label='Target')\n",
    "    \n",
    "    # Add horizontal lines\n",
    "    plt.axhline(y=signal['entry_price'], color='blue', linestyle='--', alpha=0.3)\n",
    "    plt.axhline(y=signal['stop_loss'], color=stop_color, linestyle='--', alpha=0.3)\n",
    "    plt.axhline(y=signal['target'], color=target_color, linestyle='--', alpha=0.3)\n",
    "    \n",
    "    plt.title(f\"{symbol} - {signal['type']} Signal\")\n",
    "    plt.xlabel('Date')\n",
    "    plt.ylabel('Price ($)')\n",
    "    plt.legend()\n",
    "    plt.tight_layout()\n",
    "    plt.show()"
   ]
  },
  {
   "cell_type": "markdown",
   "metadata": {},
   "source": [
    "## 8. Decision Engine"
   ]
  },
  {
   "cell_type": "code",
   "execution_count": null,
   "metadata": {},
   "source": [
    "# For demonstration, let's create multiple signals\n",
    "# In a real system, these would come from analyzing multiple stocks\n",
    "all_signals = signals.copy() if signals else []\n",
    "\n",
    "# Add some mock signals for demonstration\n",
    "if len(all_signals) < 3:\n",
    "    additional_symbols = symbols[1:4] if len(symbols) > 4 else ['MSFT', 'GOOGL', 'AMZN']\n",
    "    \n",
    "    for i, sym in enumerate(additional_symbols):\n",
    "        # Create a mock signal\n",
    "        mock_signal = {\n",
    "            'symbol': sym,\n",
    "            'timestamp': datetime.now().strftime('%Y-%m-%d %H:%M:%S'),\n",
    "            'type': 'LONG' if i % 2 == 0 else 'SHORT',\n",
    "            'entry_price': 100 + i * 10,\n",
    "            'stop_loss': (100 + i * 10) * (0.95 if i % 2 == 0 else 1.05),\n",
    "            'target': (100 + i * 10) * (1.1 if i % 2 == 0 else 0.9),\n",
    "            'probability': 0.6 + i * 0.05,\n",
    "            'confidence': 0.7 + i * 0.03,\n",
    "            'risk_reward': 2.0 + i * 0.2,\n",
    "            'expected_value': 5 + i,\n",
    "            'sharpe': 1.0 + i * 0.1,\n",
    "            'horizon': horizon,\n",
    "            'volatility': 0.01 + i * 0.005,\n",
    "            'position_size': 0.5 + i * 0.1,\n",
    "            'market_regime': market_regime\n",
    "        }\n",
    "        all_signals.append(mock_signal)\n",
    "\n",
    "print(f\"Total signals: {len(all_signals)}\")"
   ]
  },
  {
   "cell_type": "code",
   "execution_count": null,
   "metadata": {},
   "source": [
    "# Create a basic correlation matrix\n",
    "symbols_used = [signal['symbol'] for signal in all_signals]\n",
    "mock_corr = pd.DataFrame(np.random.uniform(-0.2, 0.8, (len(symbols_used), len(symbols_used))), \n",
    "                       index=symbols_used, columns=symbols_used)\n",
    "np.fill_diagonal(mock_corr.values, 1)\n",
    "\n",
    "# Make it symmetric\n",
    "mock_corr = (mock_corr + mock_corr.T) / 2\n",
    "\n",
    "# Set the correlation matrix\n",
    "decision_engine.set_correlation_matrix(mock_corr)\n",
    "\n",
    "# Rank opportunities\n",
    "ranked_opportunities = decision_engine.rank_opportunities(all_signals)\n",
    "\n",
    "print(f\"Ranked opportunities: {len(ranked_opportunities)}\")"
   ]
  },
  {
   "cell_type": "code",
   "execution_count": null,
   "metadata": {},
   "source": [
    "# Generate decision report\n",
    "market_context = {\n",
    "    'regime': market_regime,\n",
    "    'volatility': 'normal'\n",
    "}\n",
    "\n",
    "decision_report = decision_engine.generate_decision_report(ranked_opportunities, market_context)\n",
    "\n",
    "# Display report summary\n",
    "print(\"Decision Report Summary:\")\n",
    "print(decision_report['summary'])"
   ]
  },
  {
   "cell_type": "code",
   "execution_count": null,
   "metadata": {},
   "source": [
    "# Display top opportunities\n",
    "print(\"Top Opportunities:\")\n",
    "for i, op in enumerate(ranked_opportunities[:3], 1):\n",
    "    print(f\"\\n{i}. {op['symbol']} - {op['type']}\")\n",
    "    print(f\"   Entry: ${op['entry_price']:.2f}, Target: ${op['target']:.2f}, Stop: ${op['stop_loss']:.2f}\")\n",
    "    print(f\"   Probability: {op['probability']:.2f}, Risk-Reward: {op['risk_reward']:.2f}\")\n",
    "    print(f\"   Sharpe: {op['sharpe']:.2f}, Position Size: {op['position_size']:.2f}\")"
   ]
  },
  {
   "cell_type": "code",
   "execution_count": null,
   "metadata": {},
   "source": [
    "# Save the decision report\n",
    "saved_files = decision_engine.save_decision_report(decision_report)\n",
    "\n",
    "print(\"Saved decision report to:\")\n",
    "for format_type, path in saved_files.items():\n",
    "    print(f\"  {format_type}: {path}\")"
   ]
  },
  {
   "cell_type": "markdown",
   "metadata": {},
   "source": [
    "## 9. Backtesting a Strategy (Simplified Example)\n",
    "\n",
    "This is a simplified example of how you might backtest a strategy based on the model's predictions."
   ]
  },
  {
   "cell_type": "code",
   "execution_count": null,
   "metadata": {},
   "source": [
    "# Train and backtest on historical data for simplified example\n",
    "def backtest_symbol(symbol, horizon='medium_term'):\n",
    "    print(f\"Backtesting {symbol} for {horizon} horizon...\")\n",
    "    \n",
    "    # Get data\n",
    "    data = await data_engine.get_market_data(symbol, period=\"5y\", interval=\"1d\")\n",
    "    if data.empty:\n",
    "        print(f\"No data for {symbol}\")\n",
    "        return None\n",
    "        \n",
    "    # Generate features\n",
    "    features = feature_engine.generate_technical_features(data)\n",
    "    \n",
    "    # Generate target labels\n",
    "    targets = feature_engine.generate_target_labels(data, horizon)\n",
    "    \n",
    "    # Align features and targets\n",
    "    common_index = features.index.intersection(targets.index)\n",
    "    features = features.loc[common_index]\n",
    "    targets = targets.loc[common_index]\n",
    "    \n",
    "    # Use 70% for training, 30% for testing\n",
    "    split_idx = int(len(features) * 0.7)\n",
    "    \n",
    "    X_train = features.iloc[:split_idx]\n",
    "    y_train = targets.iloc[:split_idx]['target']\n",
    "    \n",
    "    X_test = features.iloc[split_idx:]\n",
    "    y_test = targets.iloc[split_idx:]['target']\n",
    "    \n",
    "    # Train models\n",
    "    model = ModelHierarchy(horizon)\n",
    "    model.build_models()\n",
    "    model.train_models(X_train, y_train)\n",
    "    \n",
    "    # Generate predictions\n",
    "    predictions = model.predict(X_test)\n",
    "    \n",
    "    # Create consensus predictions\n",
    "    fusion = FusionLayer(horizon)\n",
    "    consensus = fusion.generate_consensus(predictions)\n",
    "    \n",
    "    # Create trading signals\n",
    "    test_data = data.loc[X_test.index]\n",
    "    \n",
    "    # Create a simple trading strategy\n",
    "    signals = pd.DataFrame(index=X_test.index)\n",
    "    signals['actual'] = y_test\n",
    "    signals['predicted'] = consensus['class']\n",
    "    signals['probability'] = consensus['probability']\n",
    "    signals['price'] = test_data['Close']\n",
    "    signals['position'] = signals['predicted'].map({0: -1, 1: 1})  # 1 for long, -1 for short\n",
    "    \n",
    "    # Calculate returns\n",
    "    signals['market_return'] = test_data['Close'].pct_change()\n",
    "    signals['strategy_return'] = signals['position'].shift(1) * signals['market_return']\n",
    "    \n",
    "    # Calculate cumulative returns\n",
    "    signals['cum_market_return'] = (1 + signals['market_return']).cumprod() - 1\n",
    "    signals['cum_strategy_return'] = (1 + signals['strategy_return']).cumprod() - 1\n",
    "    \n",
    "    return signals"
   ]
  },
  {
   "cell_type": "code",
   "execution_count": null,
   "metadata": {},
   "source": [
    "# Run backtest for a symbol\n",
    "backtest_results = await backtest_symbol(symbols[0])\n",
    "\n",
    "if backtest_results is not None:\n",
    "    # Display final results\n",
    "    market_return = backtest_results['cum_market_return'].iloc[-1] * 100\n",
    "    strategy_return = backtest_results['cum_strategy_return'].iloc[-1] * 100\n",
    "    hit_rate = (backtest_results['predicted'] == backtest_results['actual']).mean() * 100\n",
    "    \n",
    "    print(f\"Backtest Results for {symbols[0]}:\")\n",
    "    print(f\"Market Return: {market_return:.2f}%\")\n",
    "    print(f\"Strategy Return: {strategy_return:.2f}%\")\n",
    "    print(f\"Hit Rate: {hit_rate:.2f}%\")\n",
    "    \n",
    "    # Plot equity curves\n",
    "    plt.figure(figsize=(12, 6))\n",
    "    plt.plot(backtest_results.index, backtest_results['cum_market_return'] * 100, label='Buy & Hold')\n",
    "    plt.plot(backtest_results.index, backtest_results['cum_strategy_return'] * 100, label='Strategy')\n",
    "    plt.title(f\"{symbols[0]} - Backtest Performance\")\n",
    "    plt.xlabel('Date')\n",
    "    plt.ylabel('Return (%)')\n",
    "    plt.legend()\n",
    "    plt.grid(True, alpha=0.3)\n",
    "    plt.tight_layout()\n",
    "    plt.show()"
   ]
  },
  {
   "cell_type": "markdown",
   "metadata": {},
   "source": [
    "## 10. Clean Up"
   ]
  },
  {
   "cell_type": "code",
   "execution_count": null,
   "metadata": {},
   "source": [
    "# Stop data acquisition service\n",
    "await data_engine.stop()\n",
    "print(\"System stopped.\")"
   ]
  }
 ],
 "metadata": {
  "kernelspec": {
   "display_name": "Python 3",
   "language": "python",
   "name": "python3"
  },
  "language_info": {
   "codemirror_mode": {
    "name": "ipython",
    "version": 3
   },
   "file_extension": ".py",
   "mimetype": "text/x-python",
   "name": "python",
   "nbconvert_exporter": "python",
   "pygments_lexer": "ipython3",
   "version": "3.10.0"
  }
 },
 "nbformat": 4,
 "nbformat_minor": 4
}